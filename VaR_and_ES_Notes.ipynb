{
  "nbformat": 4,
  "nbformat_minor": 0,
  "metadata": {
    "colab": {
      "provenance": [],
      "authorship_tag": "ABX9TyNNVJ7laZe1CYVQ776gztK9",
      "include_colab_link": true
    },
    "kernelspec": {
      "name": "python3",
      "display_name": "Python 3"
    },
    "language_info": {
      "name": "python"
    }
  },
  "cells": [
    {
      "cell_type": "markdown",
      "metadata": {
        "id": "view-in-github",
        "colab_type": "text"
      },
      "source": [
        "<a href=\"https://colab.research.google.com/github/KadenC2026/Enviornment-Setup/blob/main/VaR_and_ES_Notes.ipynb\" target=\"_parent\"><img src=\"https://colab.research.google.com/assets/colab-badge.svg\" alt=\"Open In Colab\"/></a>"
      ]
    },
    {
      "cell_type": "code",
      "execution_count": null,
      "metadata": {
        "id": "Iq1AZZ9B7T35"
      },
      "outputs": [],
      "source": []
    },
    {
      "cell_type": "markdown",
      "source": [
        "### Value at Risk (VaR)\n",
        "The VaR at confidence level $\\alpha$ (e.g. 95\\% or 99\\%) is the loss threshold $\\ell$ such that the probability the loss $L$ exceeds $\\ell$ is $1 - \\alpha$:\n",
        "\n",
        "$$\n",
        "P(L > \\ell) = 1 - \\alpha.\n",
        "$$\n",
        "This also means that there is an $\\alpha$ probability that the loss $L$ is less than or equal to $\\ell$ i, giving us the formula below:\n",
        "\n",
        "$\\mathrm{VaR}_\\alpha(L) = \\inf\\{P(L \\le \\ell) \\ge \\alpha\\} = F_L^{-1}(x)\n",
        " $  <br><br>Where $F_L(x)$ is the CDF function: $F_L(\\ell) = \\alpha$ means ``the chance $L$ is at most $\\ell$ is $\\alpha$''(represents the probability $\\alpha$ that a random variable X takes on a value less than or equal to $\\ell$)\n",
        "\n",
        "\n",
        "\n",
        "Ex: We use $\\mathrm{VaR}_{0.95}. $With $95\\%$ confidence, losses over the next day will be less than or equal to $\\mathrm{VaR}_{0.95}$ (essentially the least possible \"maximum\" lost). Conversely, there is a $5\\%$ chance the loss will exceed that level.\n",
        "\n",
        "### Expected Shortfall (ES)\n",
        "As explored above, there is a $\\alpha$ chance that the loss will be less than or equal to the VaR. But what happens in the 1-$\\alpha$ probability? ES explores this: <br>\n",
        "The ES at level α is the average loss in the worst 1−α tail. In other words, if the 1−α probability comes true, what is the expected loss that is greater than VaR: <br>\n",
        "$\\mathrm{ES}_\\alpha = \\mathbb{E}\\bigl[L \\mid L > \\mathrm{VaR}_\\alpha\\bigr]$ <br>\n",
        "For continuous distributions, where $\\alpha$ is on the x-axis and loss is on the y-axis it can be written as\n",
        "$$\n",
        "\\mathrm{ES}_\\alpha = \\frac{1}{1 - \\alpha} \\int_{\\alpha}^{1} \\mathrm{VaR}_\\alpha(x)\\,\\mathrm{d}u = \\frac{1}{1 - \\alpha} \\int_{\\alpha}^{1} F_L^{-1}(x)\\,\\mathrm{d}x .\n",
        "$$\n",
        "\n",
        "\n",
        "### Practice Problems:\n",
        "1: For the random variable $L$ with $P(L = 0) = 0.98$, $P(L = 10) = 0.02$, compute $\\mathrm{VaR}_{0.98}(L)$ and $\\mathrm{VaR}_{0.99}(L)$.\n",
        "\n",
        "Solution: <br>\n",
        "a) Since there is a 0.98 chance that L=0, $\\mathrm{VaR}_{0.98}(L) = 0$ because we can guarantee with a 0.98 probability that the loss will be less than or equal to 0. <br>\n",
        "b) $\\mathrm{VaR}_{0.99}(L) = 10$. With a 0.99 probability, we can only guarantee that the loss will be less than or equal to 10. Although there is a 0.98 probability that the loss is 0, there is a possibility in the 0.99 that the loss is 10, so the VaR has to be equal to 10 to guarantee that the loss is less than this value with a 0.99 probability.\n",
        "\n",
        "2: Compute $\\mathrm{VaR}_{0.99}(L)$ for $L \\sim N(0,1)$.\n",
        "Solution: The symbol Φ denotes the cumulative distribution function (CDF) of the standard normal distribution N(0,1).\n",
        "\n",
        "$F_L(x)=\\displaystyle \\Phi(x) = P(Z \\le x) = \\int_{-\\infty}^{x} \\frac{1}{\\sqrt{2\\pi}} e^{-t^2/2}\\,dt$\n",
        "\n",
        "With this function, inputting a value between 0-1 gives the probability that if you choose a random value x on the interval, it is less than or equal to x.\n",
        "<br>\n",
        "By definition of VaR: <br>\n",
        "$\\mathrm{VaR}_\\alpha(L) = F_L^{-1}(\\alpha).$ <br>\n",
        " Since here $L \\sim N(0,1)$, we have $F_L = \\Phi$, and so $\\mathrm{VaR}_{0.99}(L) = \\Phi^{-1}(0.99) = 2.3265$ (using table). <br><br>\n",
        " 3: $ \\text{Derive the formula for }\\mathrm{ES}_{0.99}(L)\\text{ when }L \\sim N(0,1).$ <br>\n",
        " Using the formula for ES: <br>\n",
        " $$\n",
        "\\mathrm{ES}_\\alpha = \\frac{1}{1 - \\alpha} \\int_{\\alpha}^{1} F_L^{-1}(u)\\,du\n",
        "\\rightarrow\n",
        "\\mathrm{ES}_{0.99} = \\frac{1}{0.01} \\int_{0.99}^{1} \\Phi^{-1}(u)\\,du.\n",
        "$$\n",
        "\n",
        "\n",
        "\n",
        "\n",
        "\n",
        "\n",
        "\n",
        "\n",
        "\n",
        "\n",
        "\n",
        "\n",
        "\n",
        "\n",
        "\n",
        "\n",
        "\n",
        "\n",
        "\n",
        "\n",
        "\n",
        "\n",
        "\n",
        "\n",
        "\n",
        "\n",
        "\n",
        "\n",
        "\n",
        "\n",
        "\n",
        "\n",
        "\n",
        "\n",
        "\n",
        "\n",
        "\n"
      ],
      "metadata": {
        "id": "aIsUVh4r-PQ1"
      }
    }
  ]
}