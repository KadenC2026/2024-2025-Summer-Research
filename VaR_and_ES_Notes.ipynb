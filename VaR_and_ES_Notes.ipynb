{
  "nbformat": 4,
  "nbformat_minor": 0,
  "metadata": {
    "colab": {
      "provenance": [],
      "authorship_tag": "ABX9TyM283dzu99Wo7vwgfetgwm0",
      "include_colab_link": true
    },
    "kernelspec": {
      "name": "python3",
      "display_name": "Python 3"
    },
    "language_info": {
      "name": "python"
    }
  },
  "cells": [
    {
      "cell_type": "markdown",
      "metadata": {
        "id": "view-in-github",
        "colab_type": "text"
      },
      "source": [
        "<a href=\"https://colab.research.google.com/github/KadenC2026/Enviornment-Setup/blob/main/VaR_and_ES_Notes.ipynb\" target=\"_parent\"><img src=\"https://colab.research.google.com/assets/colab-badge.svg\" alt=\"Open In Colab\"/></a>"
      ]
    },
    {
      "cell_type": "code",
      "execution_count": null,
      "metadata": {
        "id": "Iq1AZZ9B7T35"
      },
      "outputs": [],
      "source": []
    },
    {
      "cell_type": "markdown",
      "source": [
        "### Value at Risk (VaR)\n",
        "The VaR at confidence level $\\alpha$ (e.g. 95\\% or 99\\%) is the loss threshold $\\ell$ such that the probability the loss $L$ exceeds $\\ell$ is $1 - \\alpha$:\n",
        "\n",
        "$$\n",
        "P(L > \\ell) = 1 - \\alpha.\n",
        "$$\n",
        "This also means that the probability the loss $L$ is less than or equal to $\\ell$ is $\\alpha$, giving us the formula below:\n",
        "\n",
        "$\\mathrm{VaR}_\\alpha(L) = \\inf\\{P(L \\le \\ell) \\ge \\alpha\\}\n",
        "\n",
        "Ex: We use $\\mathrm{VaR}_{0.95}. $With $95\\%$ confidence, losses over the next day be less than or equal to $\\mathrm{VaR}_{0.95}$. Conversely, there is a $5\\%$ chance the loss will exceed that level.\n",
        "\n",
        "### Expected Shortfall (ES)\n",
        "As explored above, there is a $\\alpha$ chance that the loss will be less than or equal to the VaR. But what happens in the 1-$\\alpha$ probability? ES explores this: <br>\n",
        "The ES at level α is the average loss in the worst 1−α tail. In other words, if the 1−α probability comes true, what is the expected loss: <br>\n",
        "$\\mathrm{ES}_\\alpha = \\mathbb{E}\\bigl[L \\mid L > \\mathrm{VaR}_\\alpha\\bigr]$ <br>\n",
        "For continuous distributions, where $\\alpha$ is on the x-axis and loss is on the y-axis it can be written as\n",
        "$$\n",
        "\\mathrm{ES}_\\alpha = \\frac{1}{1 - \\alpha} \\int_{\\alpha}^{1} \\mathrm{VaR}_\\alpha(x)\\,\\mathrm{d}u.\n",
        "$$\n",
        "\n",
        "\n",
        "\n",
        "\n",
        "\n",
        "\n",
        "\n"
      ],
      "metadata": {
        "id": "aIsUVh4r-PQ1"
      }
    }
  ]
}