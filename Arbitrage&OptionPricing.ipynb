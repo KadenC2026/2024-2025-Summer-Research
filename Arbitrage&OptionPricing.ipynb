{
  "nbformat": 4,
  "nbformat_minor": 0,
  "metadata": {
    "colab": {
      "provenance": [],
      "authorship_tag": "ABX9TyPzDOtXWm8ZtrWadxUXyyVO",
      "include_colab_link": true
    },
    "kernelspec": {
      "name": "python3",
      "display_name": "Python 3"
    },
    "language_info": {
      "name": "python"
    }
  },
  "cells": [
    {
      "cell_type": "markdown",
      "metadata": {
        "id": "view-in-github",
        "colab_type": "text"
      },
      "source": [
        "<a href=\"https://colab.research.google.com/github/KadenC2026/Enviornment-Setup/blob/main/Arbitrage%26OptionPricing.ipynb\" target=\"_parent\"><img src=\"https://colab.research.google.com/assets/colab-badge.svg\" alt=\"Open In Colab\"/></a>"
      ]
    },
    {
      "cell_type": "markdown",
      "source": [
        "# Arbitrage and Calculating Option Pricing\n",
        "\n",
        "**Goal**\n",
        "\n",
        "The goal of this note is to review no-arbitrage concept and the application of the concept to the option pricing underlying a one-step binomial tree stock model.\n",
        "\n"
      ],
      "metadata": {
        "id": "ZoJth-4hFAfL"
      }
    },
    {
      "cell_type": "markdown",
      "source": [
        "**Def** An arbitrage is a portfolio with zero initial value yielding a positive value in the future and non-negative value with a $100$% probaility.\n"
      ],
      "metadata": {
        "id": "qBOL0E5ZGyTK"
      }
    },
    {
      "cell_type": "markdown",
      "source": [
        "\n",
        "\n",
        "##Zero Bond\n",
        "\n",
        "**Def** A zero bond with the maturity $T$ and continuously compounded rate of $r>0$ is a risk-free asset such that with a terminal value $B_T = 1$ face value, its initial price is\n",
        "$B_0 = e^{-rt}$"
      ],
      "metadata": {
        "id": "Zji42dzzM2Wb"
      }
    },
    {
      "cell_type": "markdown",
      "source": [
        "## Example of Arbitrage\n",
        "(P 273 of Hull18)\n",
        "Over a 3 month period, given a Stock price that is currently 20 ($S_0$) dollars, it is known that at the end of T= $\\frac{1}{4}$ years that this stock will be either 22 ($uS_0$) or 18 ($dS_0$) dollars. We're trying to value a call option to buy the stock for 21 dollars in 3 months (k=21 dollars).  If the stock price turns out to be 22 dollars, the value of the option will be 22-21=1 dollar; if the stock price turns out to be 18 dollars, the value of the option will be zero. There is a risk-free rate of 4% per annum compounded continuously.\n",
        "\n",
        "At the end of 3 months, we want calculate what $\\Delta$ shares should be to make our portfolio to be riskless. Using the formula $\\Delta$=$\\frac{uS_0-k}{uS_0-dS_0}$, $\\Delta$=$\\frac{22-21}{22-18}$=$\\frac{1}{4}$ shares. This means that regardless of how our stock moves, the portfolio value is $18*\\Delta=4.5$ dollars or $22*\\Delta-1=4.5$ dollars. This portfolio will also earn interest through zero bond, which means that the value of the portfolio today is $4.5*e^{-0.04*\\frac{1}{4}}$$\\approx 4.445$ dollars. To calculate the no arbitrage option price ($f$), we set 4.445=$20*\\Delta-f$, which is also the current portfolio price. Solving for $f$ gives the option price as $0.545$ dollars **in the absense of arbitrage opportunites**.\n",
        "\n",
        "If the option price is less than $0.545$ dollars, WLOG it is $0.500$ dollars, we can long the call option and hedge the portfolio by shorting the stock to create an arbitrage. We get $+1$ call option for $0.5%$ dollars, and $-\\frac{1}{4}$ stock for $20$ dollars/stock, giving a portfolio value of $-\\frac{1}{4} *20 + 1*0.5 = -4.5$. To create a zero-investment portfolio, we will invest $\\frac{4.5}{e^{-0.04/4}}$ dollars as each current Zero-bond unit ($B_0$) is $e^{-0.04/4}$. We now have two cases:  \n",
        "  \n",
        "1: If the stock becomes 22 dollars, our call option becomes worth 1 dollar, we have $-\\frac{1}{4}$ stock for $22$ dollars/stock, and we have $\\frac{4.5}{e^{-0.01}}* 1 $ dollars from zero bond as $B_3$ = 1 dollar. This means our portfolio has a total value of $1*1-\\frac{1}{4} *22=-4.5$, which after adding our money earned from zero bond, is positive. ($\\frac{4.5}{e^{-0.01}}>4.5$). This means that if the stock moves to 22 dollars, we are guaranteed profit.  \n",
        "  \n",
        "2: If the stock becomes 18 dollars, our call option becomes worth 0 dollar, we have $-\\frac{1}{4}$ stock for $20$ dollars/stock, and we have $\\frac{4.5}{e^{-0.01}}* 1 $ dollars from zero bond as $B_3$ = 1 dollar. This means our portfolio has a total value of $1*0-\\frac{1}{4} *18=-4.5$, which after adding our money earned from zero bond, is positive. ($\\frac{4.5}{e^{-0.01}}>4.5$). This means that if the stock moves to 18 dollars, we are guaranteed profit.\n",
        "  \n",
        "This is an example of an arbitrage, as there is a 100% chance of profit and losing no money, whether the stock goes to 22 or 18 dollars. If the option price is originally greater than $0.545$ dollars, we can short the call option and long the stock with the same calculations to prove the same guaranteed profit."
      ],
      "metadata": {
        "id": "jmWOKj3fbyMQ"
      }
    },
    {
      "cell_type": "markdown",
      "source": [
        "## Risk-Neutral Valuation\n",
        "An important principle in evaluating derivaties is risk neutral valuation, which states that all investors are **risk-neutral**. In this world, investors do not care about the riskiness of an asset; they only care about the expected return. This obviously contrasts with the real world, where investors typically require a higher return to compensate for taking on more risk (risk premium), but this assumption allows us for simplified and consistent pricing of derivatives by focusing on expected returns discounted at the risk-free rate, using risk-neutral probabilities.\n",
        "\n",
        "###Risk-Neutral Probabilities\n",
        "In Risk-Neutral probabilities, under a risk-neutral world we assume that:\n",
        "\n",
        "Expected future stock price=Current stock price$*e^{r⋅T}$\n",
        "\n",
        "With $p$ being the p risk-neutral probability of the stock price going up, this would mean that $uS_0*p+dS_0*(1-p)=e^{rT}*S_0$. Solving for $p$ gives us $p=\\frac{e^{rT}-d}{u-d}$.\n",
        "\n",
        "Inside this risk-neutral world, the original action price $A_0$ (we don't know if it is call or put for the sake of generality) is equivalent to the expected value of the value of the action after $T$ years. In the case our stock rises, the action value will be $G_u$, and if it decreases, the value is $G_d$. Thus, $A_0 = (p*(G_u) + (1-p)*G_d)*e^{-rT}$. We can now substitute $p$ from above, giving $A_0 = (\\frac{e^{rT}-d}{u-d}*G_u+(1-\\frac{e^{rT}-d}{u-d})*G_d)*e^{-rT}$. Notice that $p$ is not in this equation, meaning that we get the same no-arbitrage price no matter if the probability is as small as 0.01 or as large as 0.99. This also means that our logic applies to all actions, where the probability has no effect on the no-arbitrage price.\n"
      ],
      "metadata": {
        "id": "4Me_pv4oN5gz"
      }
    },
    {
      "cell_type": "markdown",
      "source": [
        "##Pricing Two Step American and European Put Options.\n",
        "\n",
        "We begin with a two-year European put option with a strike price of $\\$52$, where the underlying stock’s current price is \\$50. The model assumes two time steps, each one year long, during which the stock can either move up by 20\\% (i.e., multiply by 1.2) or down by 20\\% (i.e., multiply by 0.8). Additionally, the risk-free interest rate is 5\\%.\n",
        "\n",
        "The key parameters are:\n",
        "\\begin{align*}\n",
        "u &= 1.2 \\quad \\text{(stock moves up by 20%)} \\\\\n",
        "d &= 0.8 \\quad \\text{(stock moves down by 20%)} \\\\\n",
        "r &= 0.05 \\quad \\text{(risk-free interest rate of 5%)}\n",
        "\\end{align*}\n",
        "\n",
        "The risk-neutral probability \\( p \\) is calculated using the formula:\n",
        "\n",
        "\\[\n",
        "$p = \\frac{e^{r\\Delta t} - d}{u - d} = \\frac{e^{0.05} - 0.8}{1.2 - 0.8} = 0.6282$\n",
        "\\]\n",
        "\n",
        "This represents the probability of the stock price going up in each step. Using this model, the possible final stock prices at the end of two years are:\n",
        "$[\n",
        "72 \\quad (u \\times u), \\quad 48 \\quad (u \\times d \\text{ or } d \\times u), \\quad 32 \\quad (d \\times d)$\n",
        "\\]\n",
        "\n",
        "###Calculating the Option Price:\n",
        "At maturity (the final nodes of the tree), the put option's payoff is calculated as:\n",
        "\\begin{align*}\n",
        "\\text{If stock price is } 72 &: \\quad 52-72=-20=>0 \\\\\n",
        "\\text{If stock price is } 48 &: \\quad 52-48 = 4 \\\\\n",
        "\\text{If stock price is } 32 &: \\quad 52-32 = 20\n",
        "\\end{align*}\n",
        "\n",
        "We then work backwards through the tree to calculate the value of the option at earlier nodes. The option value at an intermediate step is the present value of the expected option price at the next step, discounted by the risk-free interest rate:\n",
        "\\begin{align*}\n",
        "\\text{$f=e−rΔt×[p×f_u+(1−p)×f_d)]$}\n",
        "\\end{align*}\n",
        "####Middle Node\n",
        "For the Middle node where the stock goes up first, the option value is:\n",
        "\\begin{align*}\n",
        "\\text{[$f_u = e^{-0.05 \\times 1} \\times \\left[ 0.6282 \\times 0 + (1 - 0.6282) \\times 4 \\right]$} \\\\\n",
        "\\text{[$f_u = e^{-0.05} \\times \\left[ 0 + 0.3718 \\times 4 \\right]$} \\\\\n",
        "\\text{[$f_u = e^{-0.05} \\times 1.4872 \\approx 0.9512 \\times 1.4872 = \\$1.4147\n",
        "]$}\n",
        "\\end{align*}\n",
        "For the Middle node where the stock goes down first, the option value is:\n",
        "\\begin{align*}\n",
        "\\text{[$f_d = e^{-0.05 \\times 1} \\times \\left[ 0.6282 \\times 4 + (1 - 0.6282) \\times 20 \\right]$} \\\\\n",
        "\\text{[$f_d = e^{-0.05} \\times \\left[ 0.6282 \\times 4 + 0.3718 \\times 20 \\right]$} \\\\\n",
        "\\text{[$f_d = e^{-0.05} \\times \\left[ 2.5128 + 7.436 \\right]$} \\\\\n",
        "\\text{[$f_d = e^{-0.05} \\times 9.9488 = 0.9512 \\times 9.9488 \\approx \\$9.4636]$}\n",
        "\\end{align*}\n",
        "####Initial Node\n",
        "Finally, we calculate the value of the option at the initial node, which gives us the current value of the option. Using the same formula:\n",
        "\\begin{align*}\n",
        "\\text{[$f_d = e^{-0.05 \\times 1} \\times \\left[ 0.6282 \\times 1.4147 + (1 - 0.6282) \\times 9.4636 \\right]$} \\\\\n",
        "\\text{[$f_d = e^{-0.05} \\times \\left[ 0.8887 + 3.5186 \\right]$} \\\\\n",
        "\\text{[$f_d = e^{-0.05} \\times 4.4073 = 0.9512 \\times 4.4073 \\approx \\$4.1923]$}\n",
        "\\end{align*}\n",
        "\n",
        "\n",
        "##American Put Option Pricing\n",
        "The process for pricing an American put option is similar, but with an additional step: at each node, you check if exercising the option early is more beneficial than waiting. For an American option, the holder can exercise the option at any time before the expiration date, unlike a European option, which can only be exercised at maturity.\n",
        "\n",
        "At each step in the binomial tree we calculate the value of the option if held as done for the European option, and then compare this value to the payoff from exercising the option early.\n",
        "\n",
        "For instance, at the Middle node where the stock goes down first, the value of the option if held is 9.4636 dollars, but the value from exercising early is 12 dollars. Since early exercise is more beneficial, the option is exercised, and the value is set to $12."
      ],
      "metadata": {
        "id": "RASQc6UE_vVx"
      }
    },
    {
      "cell_type": "markdown",
      "source": [
        "## Binomial Tree Formulas\n",
        "We consider again a American put option where the stock price is \\$50,\n",
        "the strike price is \\$52, the risk-free rate is 5%, the option life is 2 years, and there\n",
        "are two time steps. In this case, $\\Delta$t = 1. Suppose that the volatility is 30%.\n",
        "We know that:\n",
        "\\begin{align*}\n",
        "u = e^{\\sigma \\sqrt{\\Delta t}}\n",
        " \\\\\n",
        "d = e^{-\\sigma \\sqrt{\\Delta t}}\n",
        "\\end{align*}\n",
        "\n",
        "And that:\n",
        "\\begin{align*}\n",
        "p = \\frac{e^{r \\Delta t} - d}{u - d}\n",
        "\\\\\n",
        "\\end{align*}\n",
        "We now can calculate for p:\n",
        "\\begin{align*}\n",
        "u &= e^{0.3} = 1.3499, \\\\\n",
        "d &= \\frac{1}{1.3499} = 0.7408, \\\\\n",
        "a &= e^{0.05} = 1.0513 \\\\\n",
        "\\end{align*}\n",
        "Now we use the formula\n",
        "\\begin{align*}\n",
        "p = \\frac{e^{r \\Delta t} - d}{u - d}\n",
        "\\\\\n",
        "\\end{align*}\n",
        "Using calculated information:\n",
        "\\begin{align*}\n",
        "p &= \\frac{1.0513 - 0.7408}{1.3499 - 0.7408} = 0.5097.\n",
        "\\\\\n",
        "\\end{align*}\n",
        "\n",
        "\n"
      ],
      "metadata": {
        "id": "n4Gbwijco9T7"
      }
    },
    {
      "cell_type": "code",
      "source": [],
      "metadata": {
        "id": "PO_9MFwaOAmi"
      },
      "execution_count": null,
      "outputs": []
    }
  ]
}