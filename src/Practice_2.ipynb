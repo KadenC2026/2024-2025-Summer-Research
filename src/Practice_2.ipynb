{
  "nbformat": 4,
  "nbformat_minor": 0,
  "metadata": {
    "colab": {
      "provenance": [],
      "authorship_tag": "ABX9TyOgSjz3AMKU+/jcfyKaheqx",
      "include_colab_link": true
    },
    "kernelspec": {
      "name": "python3",
      "display_name": "Python 3"
    },
    "language_info": {
      "name": "python"
    }
  },
  "cells": [
    {
      "cell_type": "markdown",
      "metadata": {
        "id": "view-in-github",
        "colab_type": "text"
      },
      "source": [
        "<a href=\"https://colab.research.google.com/github/KadenC2026/Enviornment-Setup/blob/main/src/Practice_2.ipynb\" target=\"_parent\"><img src=\"https://colab.research.google.com/assets/colab-badge.svg\" alt=\"Open In Colab\"/></a>"
      ]
    },
    {
      "cell_type": "markdown",
      "source": [
        "# Practice #2\n",
        "\n",
        "**Goal**\n",
        "\n",
        "The goal of this note is to review no-arbitrage concept and the application of the concept to the option pricing underlying a one-step binomial tree stock model.\n",
        "\n"
      ],
      "metadata": {
        "id": "ZoJth-4hFAfL"
      }
    },
    {
      "cell_type": "markdown",
      "source": [
        "**Def** An arbitrage is a portfolio with zero initial value yielding a positive value in the future and non-negative value with a $100$% probaility.\n"
      ],
      "metadata": {
        "id": "qBOL0E5ZGyTK"
      }
    },
    {
      "cell_type": "markdown",
      "source": [
        "\n",
        "\n",
        "##Zero Bond\n",
        "\n",
        "**Def** A zero bond with the maturity $T$ and continuously compounded rate of $r>0$ is a risk-free asset such that with a terminal value $B_T = 1$ face value, its initial price is\n",
        "$B_0 = e^{-rt}$"
      ],
      "metadata": {
        "id": "Zji42dzzM2Wb"
      }
    },
    {
      "cell_type": "markdown",
      "source": [
        "## Example of Arbitrage\n",
        "(P 273 of Hull18)\n",
        "Over a 3 month period, given a Stock price that is currently 20 ($S_0$) dollars, it is known that at the end of T= $\\frac{1}{4}$ years that this stock will be either 22 ($uS_0$) or 18 ($dS_0$) dollars. We're trying to value a call option to buy the stock for 21 dollars in 3 months (k=21 dollars).  If the stock price turns out to be 22 dollars, the value of the option will be 22-21=1 dollar; if the stock price turns out to be 18 dollars, the value of the option will be zero. There is a risk-free rate of 4% per annum compounded continuously.\n",
        "\n",
        "At the end of 3 months, we want calculate what $\\Delta$ shares should be to make our portfolio to be riskless. Using the formula $\\Delta$=$\\frac{uS_0-k}{uS_0-dS_0}$, $\\Delta$=$\\frac{22-21}{22-18}$=$\\frac{1}{4}$ shares. This means that regardless of how our stock moves, the portfolio value is $18*\\Delta=4.5$ dollars or $22*\\Delta-1=4.5$ dollars. This portfolio will also earn interest through zero bond, which means that the value of the portfolio today is $4.5*e^{-0.04*\\frac{1}{4}}$$\\approx 4.445$ dollars. To calculate the no arbitrage option price ($f$), we set 4.445=$20*\\Delta-f$, which is also the current portfolio price. Solving for $f$ gives the option price as $0.545$ dollars **in the absense of arbitrage opportunites**.\n",
        "\n",
        "If the option price is less than $0.545$ dollars, WLOG it is $0.500$ dollars, we can long the call option and hedge the portfolio by shorting the stock to create an arbitrage. We get $+1$ call option for $0.5%$ dollars, and $-\\frac{1}{4}$ stock for $20$ dollars/stock, giving a portfolio value of $-\\frac{1}{4} *20 + 1*0.5 = -4.5$. To create a zero-investment portfolio, we will invest $\\frac{4.5}{e^{-0.04/4}}$ dollars as each current Zero-bond unit ($B_0$) is $e^{-0.04/4}$. We now have two cases:  \n",
        "  \n",
        "1: If the stock becomes 22 dollars, our call option becomes worth 1 dollar, we have $-\\frac{1}{4}$ stock for $22$ dollars/stock, and we have $\\frac{4.5}{e^{-0.01}}* 1 $ dollars from zero bond as $B_3$ = 1 dollar. This means our portfolio has a total value of $1*1-\\frac{1}{4} *22=-4.5$, which after adding our money earned from zero bond, is positive. ($\\frac{4.5}{e^{-0.01}}>4.5$). This means that if the stock moves to 22 dollars, we are guaranteed profit.  \n",
        "  \n",
        "2: If the stock becomes 18 dollars, our call option becomes worth 0 dollar, we have $-\\frac{1}{4}$ stock for $20$ dollars/stock, and we have $\\frac{4.5}{e^{-0.01}}* 1 $ dollars from zero bond as $B_3$ = 1 dollar. This means our portfolio has a total value of $1*0-\\frac{1}{4} *18=-4.5$, which after adding our money earned from zero bond, is positive. ($\\frac{4.5}{e^{-0.01}}>4.5$). This means that if the stock moves to 18 dollars, we are guaranteed profit.\n",
        "  \n",
        "This is an example of an arbitrage, as there is a 100% chance of profit and losing no money, whether the stock goes to 22 or 18 dollars. If the option price is originally greater than $0.545$ dollars, we can short the call option and long the stock with the same calculations to prove the same guaranteed profit."
      ],
      "metadata": {
        "id": "jmWOKj3fbyMQ"
      }
    },
    {
      "cell_type": "markdown",
      "source": [
        "## Risk-Neutral Valuation\n",
        "An important principle in evaluating derivaties is risk neutral valuation, which states that all investors are **risk-neutral**. In this world, investors do not care about the riskiness of an asset; they only care about the expected return. This obviously contrasts with the real world, where investors typically require a higher return to compensate for taking on more risk (risk premium), but this assumption allows us for simplified and consistent pricing of derivatives by focusing on expected returns discounted at the risk-free rate, using risk-neutral probabilities.\n",
        "\n",
        "###Risk-Neutral Probabilities\n",
        "In Risk-Neutral probabilities, under a risk-neutral world we assume that:\n",
        "\n",
        "Expected future stock price=Current stock price$*e^{r⋅T}$\n",
        "\n",
        "With $p$ being the p risk-neutral probability of the stock price going up, this would mean that $uS_0*p+dS_0*(1-p)=e^{rT}*S_0$. Solving for $p$ gives us $p=\\frac{e^{rT}-d}{u-d}$.\n",
        "\n",
        "Inside this risk-neutral world, the original call price ($C_0$) is equivalent to the expected value of the value of the call options after $T$ years. In the case our stock rises, the call option value will be $uS_0-k$, and if it decreases, the value is simply 0. Thus, $C_0 = (p*(uS_0-k) + (1-p)*0)*e^{-rT} = (p*(uS_0-k))*e^{-rT}$. We can now substitute $p$ from above, giving $C_0 = (\\frac{e^{rT}-d}{u-d}*(uS_0-k))*e^{-rT}$. Notice that $p$ is not in this equation, meaning that we get the same no-arbitrage price no matter if the probability is as small as 0.01 or as large as 0.99.\n"
      ],
      "metadata": {
        "id": "4Me_pv4oN5gz"
      }
    },
    {
      "cell_type": "code",
      "source": [],
      "metadata": {
        "id": "PO_9MFwaOAmi"
      },
      "execution_count": null,
      "outputs": []
    }
  ]
}