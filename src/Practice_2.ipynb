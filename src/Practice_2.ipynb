{
  "nbformat": 4,
  "nbformat_minor": 0,
  "metadata": {
    "colab": {
      "provenance": [],
      "authorship_tag": "ABX9TyPPLW9h2I3dZ8CAGJJ2zELX",
      "include_colab_link": true
    },
    "kernelspec": {
      "name": "python3",
      "display_name": "Python 3"
    },
    "language_info": {
      "name": "python"
    }
  },
  "cells": [
    {
      "cell_type": "markdown",
      "metadata": {
        "id": "view-in-github",
        "colab_type": "text"
      },
      "source": [
        "<a href=\"https://colab.research.google.com/github/KadenC2026/Enviornment-Setup/blob/main/src/Practice_2.ipynb\" target=\"_parent\"><img src=\"https://colab.research.google.com/assets/colab-badge.svg\" alt=\"Open In Colab\"/></a>"
      ]
    },
    {
      "cell_type": "markdown",
      "source": [
        "# Practice #2\n",
        "\n",
        "**Goal**\n",
        "\n",
        "The goal of this note is to review no-arbitrage concept and the application of the concept to the option pricing underlying a one-step binomial tree stock model.\n",
        "\n"
      ],
      "metadata": {
        "id": "ZoJth-4hFAfL"
      }
    },
    {
      "cell_type": "markdown",
      "source": [
        "**Def** An arbitrage is a portfolio with zero initial value yielding a positive value in the future with a positive probaility and non-negative value almost surely (with probability $100\\%$).\n",
        "\n",
        "**Example**\n",
        "Suppose there is an asset whose initial value is 0 dollars/sh, and it yields 1 dollar/sh with probability $p = .9$ and 0 dollars with probability $1-p$. Then it's an arbitrage."
      ],
      "metadata": {
        "id": "qBOL0E5ZGyTK"
      }
    },
    {
      "cell_type": "markdown",
      "source": [
        "##Zero Bond\n",
        "\n",
        "**Def** A zero bond with the maturity $T$ and continuously compounded rate of $r>0$ is a risk-free asset such that with a terminal value $B_T = 1$ face value, its initial price is\n",
        "$B_0 = e^{-r}$"
      ],
      "metadata": {
        "id": "Zji42dzzM2Wb"
      }
    },
    {
      "cell_type": "markdown",
      "source": [],
      "metadata": {
        "id": "EUxasxQ2j8o6"
      }
    },
    {
      "cell_type": "markdown",
      "source": [],
      "metadata": {
        "id": "801hykecjzsG"
      }
    },
    {
      "cell_type": "markdown",
      "source": [
        "Example: (P 273 of Hull18) Over a 3 month period, given a current Stock price of 20 dollars, a risk-free rate of 4% per annum compounded continuously, and a option price of 0.545 dollars, shorting the stock and longing a call option will provide us with\n",
        " a portfolio value of -4.455 dollars. To create a zero-investment portfolio, we will invest $\\frac{4.455}{e^{0.04/4}}$ dollars as each current Zero-bond unit ($B_0$) is $e^{0.04/4}$. Investing $\\frac{4.455}{e^{0.01}}$ dollars will provide us with $\\frac{4.455}{e^{0.01}}* 1 $ dollars after 3 months, as $B_3$ = 1 dollar."
      ],
      "metadata": {
        "id": "4Me_pv4oN5gz"
      }
    },
    {
      "cell_type": "code",
      "source": [],
      "metadata": {
        "id": "PO_9MFwaOAmi"
      },
      "execution_count": null,
      "outputs": []
    }
  ]
}