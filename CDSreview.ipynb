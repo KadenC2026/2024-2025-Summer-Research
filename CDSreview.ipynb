{
  "nbformat": 4,
  "nbformat_minor": 0,
  "metadata": {
    "colab": {
      "provenance": [],
      "authorship_tag": "ABX9TyNySZoyb4ikT7U0Ya5I6YeM",
      "include_colab_link": true
    },
    "kernelspec": {
      "name": "python3",
      "display_name": "Python 3"
    },
    "language_info": {
      "name": "python"
    }
  },
  "cells": [
    {
      "cell_type": "markdown",
      "metadata": {
        "id": "view-in-github",
        "colab_type": "text"
      },
      "source": [
        "<a href=\"https://colab.research.google.com/github/KadenC2026/Enviornment-Setup/blob/main/CDSreview.ipynb\" target=\"_parent\"><img src=\"https://colab.research.google.com/assets/colab-badge.svg\" alt=\"Open In Colab\"/></a>"
      ]
    },
    {
      "cell_type": "markdown",
      "source": [
        "Credit Default Swap (CDS): Essentially Insurance but for a loan or a bond\n",
        "\n",
        "+ Example: Suppose you own a $10 million bond from a company.\n",
        "\n",
        "  + You worry the company might go bankrupt.\n",
        "\n",
        "  + You buy a CDS contract from a bank, where you pay a premium per year to the bank.\n",
        "\n",
        "  + If the company defaults, the bank pays you $10 million (minus the bond’s remaining value).\n",
        "\n"
      ],
      "metadata": {
        "id": "Lo2ZqTLo-H7h"
      }
    }
  ]
}