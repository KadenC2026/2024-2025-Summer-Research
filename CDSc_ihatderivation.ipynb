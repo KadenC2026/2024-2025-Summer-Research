{
  "nbformat": 4,
  "nbformat_minor": 0,
  "metadata": {
    "colab": {
      "provenance": [],
      "authorship_tag": "ABX9TyObdkkQXfGYXdBa1vdW12f9",
      "include_colab_link": true
    },
    "kernelspec": {
      "name": "python3",
      "display_name": "Python 3"
    },
    "language_info": {
      "name": "python"
    }
  },
  "cells": [
    {
      "cell_type": "markdown",
      "metadata": {
        "id": "view-in-github",
        "colab_type": "text"
      },
      "source": [
        "<a href=\"https://colab.research.google.com/github/KadenC2026/Enviornment-Setup/blob/main/CDSc_ihatderivation.ipynb\" target=\"_parent\"><img src=\"https://colab.research.google.com/assets/colab-badge.svg\" alt=\"Open In Colab\"/></a>"
      ]
    },
    {
      "cell_type": "code",
      "source": [],
      "metadata": {
        "id": "rN5rgAh8J946"
      },
      "execution_count": null,
      "outputs": []
    },
    {
      "cell_type": "markdown",
      "source": [],
      "metadata": {
        "id": "bUicqoK4YO2N"
      }
    },
    {
      "cell_type": "markdown",
      "source": [
        "## Derivation of  $\\hat{c}_i$ for Basket CDS Pricing\n",
        "\n",
        "We are interested in deriving the formula for the risk neutral swap rate $\\hat{c}_i$ for name \\( $V_i$ \\) in a CDS basket such that the expected present value of the **premium leg** (the \"insurance\" needed to be payed every increment) equals the expected present value of the **protection leg** (the amount the bank needs to pay in lieu of a default):\n",
        "\n",
        "$( \\mathbb{E}[\\text{PV of Premium Leg}] = \\mathbb{E}[\\text{PV of Protection Leg}] )$\n",
        "\n",
        "\n",
        "### Protection Leg (Numerator)\n",
        "\n",
        "The protection leg represents the expected present value of the payment received if name $i$ defaults before time $T$. <br>\n",
        "####Definitions: <br>\n",
        "- $\\tau_{(i)}$: Default time of the ith name to default <br>\n",
        "- $\\delta_i$: Recovery rate of $V_i$ <br>\n",
        "- $T$ : CDS Maturity. After $T$, the bank doesn't cover any defaults <br>\n",
        "- $\\tau_0$: Default time of the bank <br>\n",
        "- $r$ : Risk Free Interest Rate <br>\n",
        "\n",
        "We receive the loss amount $(1-\\delta_i$) only under certain conditions:\n",
        " - $\\tau_{(i)} < T$, the ith name to default has to default before the CDS maturity\n",
        " - $\\tau_0 > \\tau_{(i)} \\wedge T$, the default time of the bank must be after the default time of the ith name to default, and it has to be after the maturity of the CDS <br>\n",
        "\n"
      ],
      "metadata": {
        "id": "yzMERx7jJ-Dh"
      }
    },
    {
      "cell_type": "markdown",
      "source": [
        "Note that the value of the leg has to be at the current value, meaning we have to multiply our value $(1-\\delta_i$) by $e^{-r \\tau_{(i)}}$ to determine the value today at time 0.\n",
        "\n",
        "Thus, the protection leg equals:\n",
        "$( \\mathbb{E}[\\text{PV of Premium Leg}] = \\mathbb{E} \\left[ e^{-r \\tau_{(i)}} (1 - \\delta_i) \\cdot \\mathbf{1}(\\tau_{(i)} \\leq T) \\cdot \\mathbf{1}(\\tau_0 > \\tau_{(i)} \\wedge T) \\right]$\n",
        "\n",
        "### Step 2: Premium Leg (Denominator)\n",
        "\n",
        "Premiums are paid periodically at times $t_1, t_2, \\dots, t_m$ until either the ith name to default defaults, or the CDS reaches its maturity. For example, if we are calculating for $\\hat{c}_3$ the periodic payment could by $1/4$ yr, so the premium would be payed every $1/4$ of a year until the 3rd default happens, or the CDS reaches its maturity at time T. <br>\n",
        "\n",
        "Each premium $( \\hat{c}_i \\cdot \\Delta t_j )$ at time $t_j$ (where j is counted 1,2,3....) is paid if:\n",
        "- The ith name to default has not defaulted by time $t_j$: $(\\tau_{(i)} > t_j)$\n",
        "- The bank has not defaulted by time $t_j$: $(\\tau_0 > t_j)$. <br>\n",
        "\n",
        "Again, just like the Protection leg, we multiply have to discount each premium paid by $e^{-r t_j}$ to find the value at the current time = 0.\n",
        "\n",
        "Thus the Premium Leg: $\\mathbb{E} \\left[ \\sum_{j=1}^{m} e^{-rt_j} \\, \\hat{c}_i\\Delta t_j \\cdot \\mathbf{1}(\\tau_{(i)} > t_j) \\cdot \\mathbf{1}(\\tau_0 > t_j) \\right]$\n",
        "\n",
        "### Step 3: Calculate for $\\hat{c}_i$\n",
        "\n",
        "Using the Equation: <br>\n",
        "$\\mathbb{E}[\\text{PV of Premium Leg}] = \\mathbb{E}[\\text{PV of Protection Leg}] $\n",
        "\n",
        "We can substitute our calculated values from Steps 1 and 2:\n",
        "\n",
        "  $\\mathbb{E} \\left[ \\sum_{j=1}^{m} e^{-rt_j} \\, \\hat{c}_i\\Delta t_j \\cdot \\mathbf{1}(\\tau_{(i)} > t_j) \\cdot \\mathbf{1}(\\tau_0 > t_j) \\right] = \\mathbb{E} \\left[ e^{-r \\tau_{(i)}} (1 - \\delta_i) \\cdot \\mathbf{1}(\\tau_{(i)} \\leq T) \\cdot \\mathbf{1}(\\tau_0 > \\tau_{(i)} \\wedge T) \\right]$\n",
        "\n",
        "We can factor out $\\hat{c}_i$ from the left side of the equation:\n",
        " $\\hat{c}_i*\\mathbb{E} \\left[ \\sum_{j=1}^{m} e^{-rt_j} \\, \\Delta t_j \\cdot \\mathbf{1}(\\tau_{(i)} > t_j) \\cdot \\mathbf{1}(\\tau_0 > t_j) \\right] = \\mathbb{E} \\left[ e^{-r \\tau_{(i)}} (1 - \\delta_i) \\cdot \\mathbf{1}(\\tau_{(i)} \\leq T) \\cdot \\mathbf{1}(\\tau_0 > \\tau_{(i)} \\wedge T) \\right]$\n",
        "\n",
        "Solving for $\\hat{c}_i$ gives us: <br>\n",
        "## $\\hat{c}_i$ = $\\frac{\\mathbb{E} \\left[ e^{-r \\tau_{(i)}} (1 - \\delta_i) \\cdot \\mathbf{1}(\\tau_{(i)} \\leq T) \\cdot \\mathbf{1}(\\tau_0 > \\tau_{(i)} \\wedge T) \\right]}{\\mathbb{E} \\left[ \\sum_{j=1}^{m} e^{-rt_j} \\, \\Delta t_j \\cdot \\mathbf{1}(\\tau_{(i)} > t_j) \\cdot \\mathbf{1}(\\tau_0 > t_j) \\right]}$\n",
        "\n",
        "Which is our desired derivation.\n"
      ],
      "metadata": {
        "id": "ByltRYIrgsCp"
      }
    },
    {
      "cell_type": "code",
      "source": [],
      "metadata": {
        "id": "LfPnJqnsg8IY"
      },
      "execution_count": null,
      "outputs": []
    }
  ]
}